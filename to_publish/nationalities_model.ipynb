{
  "cells": [
    {
      "cell_type": "markdown",
      "metadata": {
        "colab_type": "text",
        "id": "view-in-github"
      },
      "source": [
        "<a href=\"https://colab.research.google.com/github/blue-create/langlens/blob/main/to_publish/nationalities_classification.ipynb\" target=\"_parent\"><img src=\"https://colab.research.google.com/assets/colab-badge.svg\" alt=\"Open In Colab\"/></a>"
      ]
    },
    {
      "cell_type": "markdown",
      "metadata": {
        "id": "EyIEztNYBsY-"
      },
      "source": [
        "# Model zur Nennung von Nationalitäten\n",
        "In diesem Notebook wird ein Bert-Model erstellt, welches erkennt ob in einem Text zu Partnerschaftsgewalt die Nationalitäten von Täter und Opfer genannt werden.\n",
        "\n",
        "Schritte:\n",
        "\n",
        "*   Vorbereiten der Daten\n",
        "*   Modellieren\n",
        "*   Evaluieren des Modelles\n",
        "\n",
        "\n"
      ]
    },
    {
      "cell_type": "markdown",
      "metadata": {
        "id": "SX9FJwmia732"
      },
      "source": [
        "### Imports, Konstanten, Paths"
      ]
    },
    {
      "cell_type": "code",
      "execution_count": null,
      "metadata": {
        "id": "wsMwtPee5ZhQ"
      },
      "outputs": [],
      "source": [
        "%%capture\n",
        "!pip install transformers==4.20.0"
      ]
    },
    {
      "cell_type": "code",
      "execution_count": null,
      "metadata": {
        "id": "uLmTUDx55_i0"
      },
      "outputs": [],
      "source": [
        "%%capture\n",
        "!pip install datasets"
      ]
    },
    {
      "cell_type": "code",
      "execution_count": null,
      "metadata": {
        "id": "i2S5jQpr6eTa"
      },
      "outputs": [],
      "source": [
        "# Vorbereiten\n",
        "from google.colab import drive\n",
        "import tqdm as tqdm\n",
        "import os\n",
        "import json\n",
        "import pandas as pd\n",
        "\n",
        "# Modelling\n",
        "from transformers import TrainingArguments, Trainer\n",
        "from transformers import AutoTokenizer\n",
        "from transformers import AutoModelForSequenceClassification\n",
        "import numpy as np\n",
        "from datasets import Dataset\n",
        "import datasets\n",
        "\n",
        "# Evaluation\n",
        "import torch\n",
        "from sklearn.metrics import f1_score, roc_auc_score, accuracy_score\n",
        "from sklearn.metrics import  confusion_matrix, classification_report"
      ]
    },
    {
      "cell_type": "code",
      "execution_count": null,
      "metadata": {
        "id": "3-gEE8t61TyI"
      },
      "outputs": [],
      "source": [
        "# Verbinden mit GDrive\n",
        "drive.mount('/content/drive')\n",
        "%cd /content/drive/MyDrive/data/"
      ]
    },
    {
      "cell_type": "code",
      "execution_count": null,
      "metadata": {
        "id": "hldfHIqmQ4sT"
      },
      "outputs": [],
      "source": [
        "# Import des Skripts das die Annotierten Daten liest\n",
        "from scripts import annotations"
      ]
    },
    {
      "cell_type": "code",
      "execution_count": null,
      "metadata": {
        "id": "gsxTqExG0xhB"
      },
      "outputs": [],
      "source": [
        "#Definieren der Paths\n",
        "folder_path = \"filtered\""
      ]
    },
    {
      "cell_type": "markdown",
      "metadata": {
        "id": "KAJUWCbkKtUH"
      },
      "source": [
        "## Vorbereiten der Daten"
      ]
    },
    {
      "cell_type": "markdown",
      "metadata": {
        "id": "V--vTsCE2Q-x"
      },
      "source": [
        "### Einlesen von Annotationsdaten"
      ]
    },
    {
      "cell_type": "code",
      "execution_count": null,
      "metadata": {
        "id": "SxbQ1IyAYVI0"
      },
      "outputs": [],
      "source": [
        "# Lesen und zusammenfügen aller annotierten Dateien\n",
        "dfs={}\n",
        "for doc in os.listdir(\"3_Annotated/new_ontology\"):\n",
        "  # Lesen der Json-Datei und als Pandas Dataframe speichern\n",
        "  if doc.endswith(\".json\"):\n",
        "    json_data=json.load(open(\"3_Annotated/new_ontology/\"+doc, encoding=\"utf-8\"))\n",
        "    data=pd.DataFrame(json_data[\"documents\"])\n",
        "    data.loc[:,\"file\"]=doc\n",
        "    dfs[doc]=data\n",
        "\n",
        "# Mergen aller Files\n",
        "data=pd.concat(dfs,ignore_index=True)\n",
        "data=data[data.annotations.apply(len)!=0]"
      ]
    },
    {
      "cell_type": "code",
      "execution_count": null,
      "metadata": {
        "id": "KoURn9hE9AKF"
      },
      "outputs": [],
      "source": [
        "# Extrahieren und Vorbereiten der annotierten Daten\n",
        "data.loc[:,\"artikel_id\"]=data.attributes_flat.apply(lambda x: x[\"artikel_id\"])\n",
        "data.loc[:,\"name\"]=data.attributes_flat.apply(lambda x: x[\"name\"])\n",
        "data.loc[:,\"titel\"]=data.attributes_flat.apply(lambda x: x[\"titel\"])\n",
        "data.loc[:,\"ressort\"]=data.attributes_flat.apply(lambda x: x[\"ressort\"])\n",
        "data.loc[:,\"annotations\"]=data.annotations.apply(annotations.extract_annotations)\n",
        "data.loc[:,\"dice\"]=data.annotations.apply(annotations.calculate_similarity,sim=\"dice\")\n",
        "data.loc[:,\"annotations\"]=data.apply(annotations.ground_truth_filter,min_coannotation=1,min_similarity=-1, similarity=\"dice\",axis=1)"
      ]
    },
    {
      "cell_type": "code",
      "execution_count": null,
      "metadata": {
        "id": "rWXo5Da4_pYq"
      },
      "outputs": [],
      "source": [
        "# Einlesen des Datensetz mit Annotationen zur Nennung von Nationalitäten\n",
        "nat=pd.read_csv(\"testing_nationalities_reviewed.csv\")\n",
        "nat=nat[~nat[\"real label\"].isna()]\n",
        "nat=nat.drop_duplicates(\"text\")\n",
        "\n",
        "# Auswählen eines zufälligen Datensatzes\n",
        "not_nat=data.sample(nat.shape[0])\n",
        "df=pd.concat([not_nat,nat]).sample(frac=1)"
      ]
    },
    {
      "cell_type": "markdown",
      "metadata": {
        "id": "evct9zeODZta"
      },
      "source": [
        "## Modelling\n",
        "\n"
      ]
    },
    {
      "cell_type": "code",
      "execution_count": null,
      "metadata": {
        "id": "_DWLAub18rvn"
      },
      "outputs": [],
      "source": [
        "# Umwandeln der Annotationskategorien in binär\n",
        "# 0: keine Nennung von Nationalitäten\n",
        "# 1: Nennung von Nationalitäten\n",
        "df[\"label\"]=(df[\"real label\"]==\"nationality\").astype(int)\n",
        "df=df[[\"text\",\"artikel_id\",\"name\",\"label\"]]"
      ]
    },
    {
      "cell_type": "code",
      "execution_count": null,
      "metadata": {
        "id": "klj-0Esn1FZL"
      },
      "outputs": [],
      "source": [
        "# Vortrainierte Modelle, die getestet wurden\n",
        "\n",
        "#model_id=\"nlptown/bert-base-multilingual-uncased-sentiment\"\n",
        "model_id=\"bert-base-german-cased\"\n",
        "#model_id=\"dbmdz/bert-base-german-cased\"\n",
        "#model_id=\"oliverguhr/german-sentiment-bert\"\n",
        "#model_id=\"krupper/text-complexity-classification\"\n",
        "#model_id=\"classla/xlm-roberta-base-multilingual-text-genre-classifier\"\n",
        "#model_id=\"deepset/bert-base-german-cased-hatespeech-GermEval18Coarse\""
      ]
    },
    {
      "cell_type": "code",
      "execution_count": null,
      "metadata": {
        "id": "2XFIHAF1wGXk"
      },
      "outputs": [],
      "source": [
        "# Laden des Vortrainieren Tokenizers\n",
        "tokenizer = AutoTokenizer.from_pretrained(model_id)"
      ]
    },
    {
      "cell_type": "code",
      "execution_count": null,
      "metadata": {
        "id": "V6P87jg14xOA"
      },
      "outputs": [],
      "source": [
        "# Erstellen der Vortrainierten Modells\n",
        "model = AutoModelForSequenceClassification.from_pretrained(model_id,  num_labels=2,ignore_mismatched_sizes=True)"
      ]
    },
    {
      "cell_type": "code",
      "execution_count": null,
      "metadata": {
        "id": "xkhufIuWX5vg"
      },
      "outputs": [],
      "source": [
        "# Teilen der Daten in Trainings und Testsets\n",
        "df_train, df_val, df_test = np.split(df.sample(frac=1, random_state=42),\n",
        "                            [int(.6 * len(df)), int(.8 * len(df))])"
      ]
    },
    {
      "cell_type": "code",
      "execution_count": null,
      "metadata": {
        "id": "Qet6grHd7pJS"
      },
      "outputs": [],
      "source": [
        "# Umwandeln der Daten in Dataset\n",
        "ds=datasets.DatasetDict({\"train\":Dataset.from_dict(df_train),\"val\":Dataset.from_dict(df_val),\"test\":Dataset.from_dict(df_test)})"
      ]
    },
    {
      "cell_type": "code",
      "execution_count": null,
      "metadata": {
        "colab": {
          "base_uri": "https://localhost:8080/"
        },
        "id": "aO8y6LckturG",
        "outputId": "9abc0c4a-5e68-4b59-e95f-fe68592a5657"
      },
      "outputs": [
        {
          "name": "stderr",
          "output_type": "stream",
          "text": [
            "PyTorch: setting up devices\n",
            "The default value for the training argument `--report_to` will change in v5 (from all installed integrations to none). In v5, you will need to use `--report_to all` to get the same behavior as now. You should start updating your code and make this info disappear :-).\n"
          ]
        }
      ],
      "source": [
        "#Definieren der Trainingsargumenten\n",
        "args = TrainingArguments(\n",
        "    f\"national_filter\",\n",
        "    overwrite_output_dir=True,\n",
        "    evaluation_strategy = \"epoch\",\n",
        "    save_strategy = \"epoch\",\n",
        "    learning_rate=2e-5,\n",
        "    per_device_train_batch_size=3,\n",
        "    per_device_eval_batch_size=3,\n",
        "    num_train_epochs=10,\n",
        "    weight_decay=0.05,\n",
        "   # metric_for_best_model=\"f1\",\n",
        "    load_best_model_at_end=True,\n",
        "    #push_to_hub=True,\n",
        ")"
      ]
    },
    {
      "cell_type": "code",
      "execution_count": null,
      "metadata": {
        "id": "7yP81b6F3VZJ"
      },
      "outputs": [],
      "source": [
        "# Funktion zum Tokenisieren und Formatieren des Input-Texts\n",
        "def preprocess_data(df):\n",
        "  return tokenizer(df[\"text\"], padding=False)"
      ]
    },
    {
      "cell_type": "code",
      "execution_count": null,
      "metadata": {
        "colab": {
          "base_uri": "https://localhost:8080/",
          "height": 113,
          "referenced_widgets": [
            "d2d018e55f2c4d58a6a2bae7892612d6",
            "52f4fbe3d01b41a9b43ecab08f6b5ef5",
            "e497eea3f4074aa4be84f4f378eb9f07",
            "b0b4b7609b72439eb52798109739af0f",
            "10aaa70c52104d1a81ba21b3ce969950",
            "057949496c05418fad4eb7d66324c3b1",
            "d0e1334cc1c64f45960bc73ae7535099",
            "41d0e8596c71432f8f5d9ab97ec084af",
            "2fab8a27fa594516ba8cf83beb66c6be",
            "a38a8926d1a84f0c9629edfd3238af9f",
            "354583704fec4e6b95a8a24f89193e04",
            "b14dbb8d53fb4049b2c953b50782146e",
            "5c6222991c7e4e57889781094788c410",
            "e8aac03e994e4131bc38048fe4823b2b",
            "195bb1d285744e8a997fc5bb6f85ca16",
            "c151a23e6bf54a1082f1902945165eb8",
            "e2ce7b7d5b4a47cd9f147e90c7c6fc18",
            "a010d097a0824b38bc07e59ff7b56d71",
            "adfea95e0bfa4691a5e91b8ef70bda88",
            "6577ad0679d144d3ba7f45f04ec08110",
            "adb58ea5c74a4ded9b0e9792f3db7998",
            "effbc52a1b9749b4b40360df1aa740f6",
            "a7247897053a46159981c85a7eebf866",
            "0d78a64340364878ba1cb93469e21065",
            "0b2ec18ab02a40d9bcb2aba073961a39",
            "88c7e31dffd84deebd11c03b909c89d3",
            "2c6ac0a468ca4f71990dc4077d03d8ff",
            "2f4819dfdb9d41b7922a9ed34d8e7dbc",
            "e608d0497f904a38ad7296c879d44720",
            "04d3b5c7a1e04a3488c54c46214b83b0",
            "412e16068d28496581aa4e18c034bdf4",
            "86629a3f67f748fc9118008b6ca08c9e",
            "a0b05e3dc3984702af9b541e5c3b9e18"
          ]
        },
        "id": "aX0yhV09yotk",
        "outputId": "c9f4ca74-4fa3-4e6b-970c-7355ba7639c5"
      },
      "outputs": [
        {
          "data": {
            "application/vnd.jupyter.widget-view+json": {
              "model_id": "d2d018e55f2c4d58a6a2bae7892612d6",
              "version_major": 2,
              "version_minor": 0
            },
            "text/plain": [
              "Map:   0%|          | 0/172 [00:00<?, ? examples/s]"
            ]
          },
          "metadata": {},
          "output_type": "display_data"
        },
        {
          "data": {
            "application/vnd.jupyter.widget-view+json": {
              "model_id": "b14dbb8d53fb4049b2c953b50782146e",
              "version_major": 2,
              "version_minor": 0
            },
            "text/plain": [
              "Map:   0%|          | 0/58 [00:00<?, ? examples/s]"
            ]
          },
          "metadata": {},
          "output_type": "display_data"
        },
        {
          "data": {
            "application/vnd.jupyter.widget-view+json": {
              "model_id": "a7247897053a46159981c85a7eebf866",
              "version_major": 2,
              "version_minor": 0
            },
            "text/plain": [
              "Map:   0%|          | 0/58 [00:00<?, ? examples/s]"
            ]
          },
          "metadata": {},
          "output_type": "display_data"
        }
      ],
      "source": [
        "# Preprocessing/ Toeknizierung der Input-Texte\n",
        "ds_encoded=ds.map(preprocess_data, batched=False)\n",
        "ds_encoded.set_format(\"torch\")"
      ]
    },
    {
      "cell_type": "code",
      "execution_count": null,
      "metadata": {
        "id": "5-KMIpWK5SMK"
      },
      "outputs": [],
      "source": [
        "# Verlustfunktion zur Evaluierung des Models\n",
        "def compute_metrics(eval_pred):\n",
        "    \"\"\" Funktion zum Evaluieren der Performance eines Text-Modells\n",
        "    Parameters:\n",
        "      - p (EvalPrediction): Vorhersagen des Textmodells\n",
        "    Returns:\n",
        "      - result (dict): Performance des Textmodells: Verlustfunktion, F1, Accuracy\n",
        "    \"\"\"\n",
        "    logits, labels = eval_pred\n",
        "    y_pred = np.argmax(logits, axis=-1)\n",
        "    y_true = labels\n",
        "    f1_micro_average = f1_score(y_true=y_true, y_pred=y_pred, average='micro')\n",
        "    roc_auc = roc_auc_score(y_true, y_pred, average = 'micro')\n",
        "    accuracy = accuracy_score(y_true, y_pred)\n",
        "    metrics = {'f1': f1_micro_average,\n",
        "               'roc_auc': roc_auc,\n",
        "               'accuracy': accuracy}\n",
        "\n",
        "    return metrics"
      ]
    },
    {
      "cell_type": "code",
      "execution_count": null,
      "metadata": {
        "id": "S2Yea9lvt_LM"
      },
      "outputs": [],
      "source": [
        " # Definieren der Modelparametern mit Verlustfunktionen\n",
        "trainer = Trainer(\n",
        "    model,\n",
        "    args,\n",
        "    train_dataset=ds_encoded[\"train\"],\n",
        "    eval_dataset=ds_encoded[\"val\"],\n",
        "    tokenizer=tokenizer,\n",
        "    compute_metrics=compute_metrics,\n",
        "\n",
        ")"
      ]
    },
    {
      "cell_type": "code",
      "execution_count": null,
      "metadata": {
        "id": "IWLHycXmsUD9"
      },
      "outputs": [],
      "source": [
        "# Trainieren des Models\n",
        "trainer.train()"
      ]
    },
    {
      "cell_type": "markdown",
      "metadata": {
        "id": "Kj_J0LR9EGwY"
      },
      "source": [
        "## Model Evaluation\n",
        "Vohersagen der Kategorien und Erstellen einer Konfusionsmatrix zur Evaluierung des Models"
      ]
    },
    {
      "cell_type": "markdown",
      "metadata": {
        "id": "43pdfH7eq1Sn"
      },
      "source": [
        "### Vorhersagen"
      ]
    },
    {
      "cell_type": "code",
      "execution_count": null,
      "metadata": {
        "id": "Wzvz9ytwtJi-"
      },
      "outputs": [],
      "source": [
        "sigmoid = torch.nn.Sigmoid()"
      ]
    },
    {
      "cell_type": "code",
      "execution_count": null,
      "metadata": {
        "id": "opr26pK9pJNh"
      },
      "outputs": [],
      "source": [
        "# Zu testende Texte\n",
        "\n",
        "test_pred=pd.DataFrame(ds[\"test\"])"
      ]
    },
    {
      "cell_type": "code",
      "execution_count": null,
      "metadata": {
        "id": "Z5DXKs5ZrR-4"
      },
      "outputs": [],
      "source": [
        "# Funktion zur Vorhersage der Textkategorien\n",
        "def predict_text(text):\n",
        "  \"\"\" Funktion zur Vorhersage von Text-Kategorien\n",
        "      - text (str): Text, dessen Kategorie vorhergesagt werden soll\n",
        "    Returns:\n",
        "      - predictions (list of int): Liste mit Integern mit Länge der Anzahl an Annotationskategorien, mit 1 Kategorie ist zutreffend und 0 nicht zutreffend\n",
        "  \"\"\"\n",
        "  encoding = tokenizer(text, return_tensors=\"pt\")\n",
        "  encoding = {k: v.to(trainer.model.device) for k,v in encoding.items()}\n",
        "  outputs = trainer.model(**encoding)\n",
        "  logits = outputs.logits\n",
        "  probs = sigmoid(logits.squeeze().cpu())\n",
        "  predictions = np.zeros(probs.shape)\n",
        "  predictions[np.where(probs >= 0.5)] = 1\n",
        "  return predictions"
      ]
    },
    {
      "cell_type": "code",
      "execution_count": null,
      "metadata": {
        "id": "Gb9T9Z2hIdgE"
      },
      "outputs": [],
      "source": [
        "# Vorhersage von Text-Kategorien\n",
        "pred=[]\n",
        "for t in ds[\"test\"][\"text\"]:\n",
        "  pred.append(predict_text(t))\n",
        "test_pred[\"prediction\"]=pred"
      ]
    },
    {
      "cell_type": "markdown",
      "metadata": {
        "id": "ZimBfzL4g_Jc"
      },
      "source": [
        "### Evaluierung"
      ]
    },
    {
      "cell_type": "code",
      "execution_count": null,
      "metadata": {
        "id": "NrApMyXXkCUP"
      },
      "outputs": [],
      "source": [
        "# Darstellen der Modelperformance in einer Konfusionsmatrix\n",
        "print(confusion_matrix(test_pred.label, y_pred))\n",
        "print(classification_report(test_pred.label, y_pred))"
      ]
    }
  ],
  "metadata": {
    "accelerator": "GPU",
    "colab": {
      "authorship_tag": "ABX9TyOI3HvgSclavN4WIlz+IMGw",
      "gpuType": "V100",
      "include_colab_link": true,
      "provenance": [],
      "toc_visible": true
    },
    "kernelspec": {
      "display_name": "Python 3",
      "name": "python3"
    },
    "language_info": {
      "name": "python"
    },
    "widgets": {
      "application/vnd.jupyter.widget-state+json": {
        "04d3b5c7a1e04a3488c54c46214b83b0": {
          "model_module": "@jupyter-widgets/base",
          "model_module_version": "1.2.0",
          "model_name": "LayoutModel",
          "state": {
            "_model_module": "@jupyter-widgets/base",
            "_model_module_version": "1.2.0",
            "_model_name": "LayoutModel",
            "_view_count": null,
            "_view_module": "@jupyter-widgets/base",
            "_view_module_version": "1.2.0",
            "_view_name": "LayoutView",
            "align_content": null,
            "align_items": null,
            "align_self": null,
            "border": null,
            "bottom": null,
            "display": null,
            "flex": null,
            "flex_flow": null,
            "grid_area": null,
            "grid_auto_columns": null,
            "grid_auto_flow": null,
            "grid_auto_rows": null,
            "grid_column": null,
            "grid_gap": null,
            "grid_row": null,
            "grid_template_areas": null,
            "grid_template_columns": null,
            "grid_template_rows": null,
            "height": null,
            "justify_content": null,
            "justify_items": null,
            "left": null,
            "margin": null,
            "max_height": null,
            "max_width": null,
            "min_height": null,
            "min_width": null,
            "object_fit": null,
            "object_position": null,
            "order": null,
            "overflow": null,
            "overflow_x": null,
            "overflow_y": null,
            "padding": null,
            "right": null,
            "top": null,
            "visibility": null,
            "width": null
          }
        },
        "057949496c05418fad4eb7d66324c3b1": {
          "model_module": "@jupyter-widgets/base",
          "model_module_version": "1.2.0",
          "model_name": "LayoutModel",
          "state": {
            "_model_module": "@jupyter-widgets/base",
            "_model_module_version": "1.2.0",
            "_model_name": "LayoutModel",
            "_view_count": null,
            "_view_module": "@jupyter-widgets/base",
            "_view_module_version": "1.2.0",
            "_view_name": "LayoutView",
            "align_content": null,
            "align_items": null,
            "align_self": null,
            "border": null,
            "bottom": null,
            "display": null,
            "flex": null,
            "flex_flow": null,
            "grid_area": null,
            "grid_auto_columns": null,
            "grid_auto_flow": null,
            "grid_auto_rows": null,
            "grid_column": null,
            "grid_gap": null,
            "grid_row": null,
            "grid_template_areas": null,
            "grid_template_columns": null,
            "grid_template_rows": null,
            "height": null,
            "justify_content": null,
            "justify_items": null,
            "left": null,
            "margin": null,
            "max_height": null,
            "max_width": null,
            "min_height": null,
            "min_width": null,
            "object_fit": null,
            "object_position": null,
            "order": null,
            "overflow": null,
            "overflow_x": null,
            "overflow_y": null,
            "padding": null,
            "right": null,
            "top": null,
            "visibility": null,
            "width": null
          }
        },
        "0b2ec18ab02a40d9bcb2aba073961a39": {
          "model_module": "@jupyter-widgets/controls",
          "model_module_version": "1.5.0",
          "model_name": "FloatProgressModel",
          "state": {
            "_dom_classes": [],
            "_model_module": "@jupyter-widgets/controls",
            "_model_module_version": "1.5.0",
            "_model_name": "FloatProgressModel",
            "_view_count": null,
            "_view_module": "@jupyter-widgets/controls",
            "_view_module_version": "1.5.0",
            "_view_name": "ProgressView",
            "bar_style": "success",
            "description": "",
            "description_tooltip": null,
            "layout": "IPY_MODEL_04d3b5c7a1e04a3488c54c46214b83b0",
            "max": 58,
            "min": 0,
            "orientation": "horizontal",
            "style": "IPY_MODEL_412e16068d28496581aa4e18c034bdf4",
            "value": 58
          }
        },
        "0d78a64340364878ba1cb93469e21065": {
          "model_module": "@jupyter-widgets/controls",
          "model_module_version": "1.5.0",
          "model_name": "HTMLModel",
          "state": {
            "_dom_classes": [],
            "_model_module": "@jupyter-widgets/controls",
            "_model_module_version": "1.5.0",
            "_model_name": "HTMLModel",
            "_view_count": null,
            "_view_module": "@jupyter-widgets/controls",
            "_view_module_version": "1.5.0",
            "_view_name": "HTMLView",
            "description": "",
            "description_tooltip": null,
            "layout": "IPY_MODEL_2f4819dfdb9d41b7922a9ed34d8e7dbc",
            "placeholder": "​",
            "style": "IPY_MODEL_e608d0497f904a38ad7296c879d44720",
            "value": "Map: 100%"
          }
        },
        "10aaa70c52104d1a81ba21b3ce969950": {
          "model_module": "@jupyter-widgets/base",
          "model_module_version": "1.2.0",
          "model_name": "LayoutModel",
          "state": {
            "_model_module": "@jupyter-widgets/base",
            "_model_module_version": "1.2.0",
            "_model_name": "LayoutModel",
            "_view_count": null,
            "_view_module": "@jupyter-widgets/base",
            "_view_module_version": "1.2.0",
            "_view_name": "LayoutView",
            "align_content": null,
            "align_items": null,
            "align_self": null,
            "border": null,
            "bottom": null,
            "display": null,
            "flex": null,
            "flex_flow": null,
            "grid_area": null,
            "grid_auto_columns": null,
            "grid_auto_flow": null,
            "grid_auto_rows": null,
            "grid_column": null,
            "grid_gap": null,
            "grid_row": null,
            "grid_template_areas": null,
            "grid_template_columns": null,
            "grid_template_rows": null,
            "height": null,
            "justify_content": null,
            "justify_items": null,
            "left": null,
            "margin": null,
            "max_height": null,
            "max_width": null,
            "min_height": null,
            "min_width": null,
            "object_fit": null,
            "object_position": null,
            "order": null,
            "overflow": null,
            "overflow_x": null,
            "overflow_y": null,
            "padding": null,
            "right": null,
            "top": null,
            "visibility": null,
            "width": null
          }
        },
        "195bb1d285744e8a997fc5bb6f85ca16": {
          "model_module": "@jupyter-widgets/controls",
          "model_module_version": "1.5.0",
          "model_name": "HTMLModel",
          "state": {
            "_dom_classes": [],
            "_model_module": "@jupyter-widgets/controls",
            "_model_module_version": "1.5.0",
            "_model_name": "HTMLModel",
            "_view_count": null,
            "_view_module": "@jupyter-widgets/controls",
            "_view_module_version": "1.5.0",
            "_view_name": "HTMLView",
            "description": "",
            "description_tooltip": null,
            "layout": "IPY_MODEL_adb58ea5c74a4ded9b0e9792f3db7998",
            "placeholder": "​",
            "style": "IPY_MODEL_effbc52a1b9749b4b40360df1aa740f6",
            "value": " 58/58 [00:00&lt;00:00, 738.38 examples/s]"
          }
        },
        "2c6ac0a468ca4f71990dc4077d03d8ff": {
          "model_module": "@jupyter-widgets/base",
          "model_module_version": "1.2.0",
          "model_name": "LayoutModel",
          "state": {
            "_model_module": "@jupyter-widgets/base",
            "_model_module_version": "1.2.0",
            "_model_name": "LayoutModel",
            "_view_count": null,
            "_view_module": "@jupyter-widgets/base",
            "_view_module_version": "1.2.0",
            "_view_name": "LayoutView",
            "align_content": null,
            "align_items": null,
            "align_self": null,
            "border": null,
            "bottom": null,
            "display": null,
            "flex": null,
            "flex_flow": null,
            "grid_area": null,
            "grid_auto_columns": null,
            "grid_auto_flow": null,
            "grid_auto_rows": null,
            "grid_column": null,
            "grid_gap": null,
            "grid_row": null,
            "grid_template_areas": null,
            "grid_template_columns": null,
            "grid_template_rows": null,
            "height": null,
            "justify_content": null,
            "justify_items": null,
            "left": null,
            "margin": null,
            "max_height": null,
            "max_width": null,
            "min_height": null,
            "min_width": null,
            "object_fit": null,
            "object_position": null,
            "order": null,
            "overflow": null,
            "overflow_x": null,
            "overflow_y": null,
            "padding": null,
            "right": null,
            "top": null,
            "visibility": null,
            "width": null
          }
        },
        "2f4819dfdb9d41b7922a9ed34d8e7dbc": {
          "model_module": "@jupyter-widgets/base",
          "model_module_version": "1.2.0",
          "model_name": "LayoutModel",
          "state": {
            "_model_module": "@jupyter-widgets/base",
            "_model_module_version": "1.2.0",
            "_model_name": "LayoutModel",
            "_view_count": null,
            "_view_module": "@jupyter-widgets/base",
            "_view_module_version": "1.2.0",
            "_view_name": "LayoutView",
            "align_content": null,
            "align_items": null,
            "align_self": null,
            "border": null,
            "bottom": null,
            "display": null,
            "flex": null,
            "flex_flow": null,
            "grid_area": null,
            "grid_auto_columns": null,
            "grid_auto_flow": null,
            "grid_auto_rows": null,
            "grid_column": null,
            "grid_gap": null,
            "grid_row": null,
            "grid_template_areas": null,
            "grid_template_columns": null,
            "grid_template_rows": null,
            "height": null,
            "justify_content": null,
            "justify_items": null,
            "left": null,
            "margin": null,
            "max_height": null,
            "max_width": null,
            "min_height": null,
            "min_width": null,
            "object_fit": null,
            "object_position": null,
            "order": null,
            "overflow": null,
            "overflow_x": null,
            "overflow_y": null,
            "padding": null,
            "right": null,
            "top": null,
            "visibility": null,
            "width": null
          }
        },
        "2fab8a27fa594516ba8cf83beb66c6be": {
          "model_module": "@jupyter-widgets/controls",
          "model_module_version": "1.5.0",
          "model_name": "ProgressStyleModel",
          "state": {
            "_model_module": "@jupyter-widgets/controls",
            "_model_module_version": "1.5.0",
            "_model_name": "ProgressStyleModel",
            "_view_count": null,
            "_view_module": "@jupyter-widgets/base",
            "_view_module_version": "1.2.0",
            "_view_name": "StyleView",
            "bar_color": null,
            "description_width": ""
          }
        },
        "354583704fec4e6b95a8a24f89193e04": {
          "model_module": "@jupyter-widgets/controls",
          "model_module_version": "1.5.0",
          "model_name": "DescriptionStyleModel",
          "state": {
            "_model_module": "@jupyter-widgets/controls",
            "_model_module_version": "1.5.0",
            "_model_name": "DescriptionStyleModel",
            "_view_count": null,
            "_view_module": "@jupyter-widgets/base",
            "_view_module_version": "1.2.0",
            "_view_name": "StyleView",
            "description_width": ""
          }
        },
        "412e16068d28496581aa4e18c034bdf4": {
          "model_module": "@jupyter-widgets/controls",
          "model_module_version": "1.5.0",
          "model_name": "ProgressStyleModel",
          "state": {
            "_model_module": "@jupyter-widgets/controls",
            "_model_module_version": "1.5.0",
            "_model_name": "ProgressStyleModel",
            "_view_count": null,
            "_view_module": "@jupyter-widgets/base",
            "_view_module_version": "1.2.0",
            "_view_name": "StyleView",
            "bar_color": null,
            "description_width": ""
          }
        },
        "41d0e8596c71432f8f5d9ab97ec084af": {
          "model_module": "@jupyter-widgets/base",
          "model_module_version": "1.2.0",
          "model_name": "LayoutModel",
          "state": {
            "_model_module": "@jupyter-widgets/base",
            "_model_module_version": "1.2.0",
            "_model_name": "LayoutModel",
            "_view_count": null,
            "_view_module": "@jupyter-widgets/base",
            "_view_module_version": "1.2.0",
            "_view_name": "LayoutView",
            "align_content": null,
            "align_items": null,
            "align_self": null,
            "border": null,
            "bottom": null,
            "display": null,
            "flex": null,
            "flex_flow": null,
            "grid_area": null,
            "grid_auto_columns": null,
            "grid_auto_flow": null,
            "grid_auto_rows": null,
            "grid_column": null,
            "grid_gap": null,
            "grid_row": null,
            "grid_template_areas": null,
            "grid_template_columns": null,
            "grid_template_rows": null,
            "height": null,
            "justify_content": null,
            "justify_items": null,
            "left": null,
            "margin": null,
            "max_height": null,
            "max_width": null,
            "min_height": null,
            "min_width": null,
            "object_fit": null,
            "object_position": null,
            "order": null,
            "overflow": null,
            "overflow_x": null,
            "overflow_y": null,
            "padding": null,
            "right": null,
            "top": null,
            "visibility": null,
            "width": null
          }
        },
        "52f4fbe3d01b41a9b43ecab08f6b5ef5": {
          "model_module": "@jupyter-widgets/controls",
          "model_module_version": "1.5.0",
          "model_name": "HTMLModel",
          "state": {
            "_dom_classes": [],
            "_model_module": "@jupyter-widgets/controls",
            "_model_module_version": "1.5.0",
            "_model_name": "HTMLModel",
            "_view_count": null,
            "_view_module": "@jupyter-widgets/controls",
            "_view_module_version": "1.5.0",
            "_view_name": "HTMLView",
            "description": "",
            "description_tooltip": null,
            "layout": "IPY_MODEL_057949496c05418fad4eb7d66324c3b1",
            "placeholder": "​",
            "style": "IPY_MODEL_d0e1334cc1c64f45960bc73ae7535099",
            "value": "Map: 100%"
          }
        },
        "5c6222991c7e4e57889781094788c410": {
          "model_module": "@jupyter-widgets/controls",
          "model_module_version": "1.5.0",
          "model_name": "HTMLModel",
          "state": {
            "_dom_classes": [],
            "_model_module": "@jupyter-widgets/controls",
            "_model_module_version": "1.5.0",
            "_model_name": "HTMLModel",
            "_view_count": null,
            "_view_module": "@jupyter-widgets/controls",
            "_view_module_version": "1.5.0",
            "_view_name": "HTMLView",
            "description": "",
            "description_tooltip": null,
            "layout": "IPY_MODEL_e2ce7b7d5b4a47cd9f147e90c7c6fc18",
            "placeholder": "​",
            "style": "IPY_MODEL_a010d097a0824b38bc07e59ff7b56d71",
            "value": "Map: 100%"
          }
        },
        "6577ad0679d144d3ba7f45f04ec08110": {
          "model_module": "@jupyter-widgets/controls",
          "model_module_version": "1.5.0",
          "model_name": "ProgressStyleModel",
          "state": {
            "_model_module": "@jupyter-widgets/controls",
            "_model_module_version": "1.5.0",
            "_model_name": "ProgressStyleModel",
            "_view_count": null,
            "_view_module": "@jupyter-widgets/base",
            "_view_module_version": "1.2.0",
            "_view_name": "StyleView",
            "bar_color": null,
            "description_width": ""
          }
        },
        "86629a3f67f748fc9118008b6ca08c9e": {
          "model_module": "@jupyter-widgets/base",
          "model_module_version": "1.2.0",
          "model_name": "LayoutModel",
          "state": {
            "_model_module": "@jupyter-widgets/base",
            "_model_module_version": "1.2.0",
            "_model_name": "LayoutModel",
            "_view_count": null,
            "_view_module": "@jupyter-widgets/base",
            "_view_module_version": "1.2.0",
            "_view_name": "LayoutView",
            "align_content": null,
            "align_items": null,
            "align_self": null,
            "border": null,
            "bottom": null,
            "display": null,
            "flex": null,
            "flex_flow": null,
            "grid_area": null,
            "grid_auto_columns": null,
            "grid_auto_flow": null,
            "grid_auto_rows": null,
            "grid_column": null,
            "grid_gap": null,
            "grid_row": null,
            "grid_template_areas": null,
            "grid_template_columns": null,
            "grid_template_rows": null,
            "height": null,
            "justify_content": null,
            "justify_items": null,
            "left": null,
            "margin": null,
            "max_height": null,
            "max_width": null,
            "min_height": null,
            "min_width": null,
            "object_fit": null,
            "object_position": null,
            "order": null,
            "overflow": null,
            "overflow_x": null,
            "overflow_y": null,
            "padding": null,
            "right": null,
            "top": null,
            "visibility": null,
            "width": null
          }
        },
        "88c7e31dffd84deebd11c03b909c89d3": {
          "model_module": "@jupyter-widgets/controls",
          "model_module_version": "1.5.0",
          "model_name": "HTMLModel",
          "state": {
            "_dom_classes": [],
            "_model_module": "@jupyter-widgets/controls",
            "_model_module_version": "1.5.0",
            "_model_name": "HTMLModel",
            "_view_count": null,
            "_view_module": "@jupyter-widgets/controls",
            "_view_module_version": "1.5.0",
            "_view_name": "HTMLView",
            "description": "",
            "description_tooltip": null,
            "layout": "IPY_MODEL_86629a3f67f748fc9118008b6ca08c9e",
            "placeholder": "​",
            "style": "IPY_MODEL_a0b05e3dc3984702af9b541e5c3b9e18",
            "value": " 58/58 [00:00&lt;00:00, 756.52 examples/s]"
          }
        },
        "a010d097a0824b38bc07e59ff7b56d71": {
          "model_module": "@jupyter-widgets/controls",
          "model_module_version": "1.5.0",
          "model_name": "DescriptionStyleModel",
          "state": {
            "_model_module": "@jupyter-widgets/controls",
            "_model_module_version": "1.5.0",
            "_model_name": "DescriptionStyleModel",
            "_view_count": null,
            "_view_module": "@jupyter-widgets/base",
            "_view_module_version": "1.2.0",
            "_view_name": "StyleView",
            "description_width": ""
          }
        },
        "a0b05e3dc3984702af9b541e5c3b9e18": {
          "model_module": "@jupyter-widgets/controls",
          "model_module_version": "1.5.0",
          "model_name": "DescriptionStyleModel",
          "state": {
            "_model_module": "@jupyter-widgets/controls",
            "_model_module_version": "1.5.0",
            "_model_name": "DescriptionStyleModel",
            "_view_count": null,
            "_view_module": "@jupyter-widgets/base",
            "_view_module_version": "1.2.0",
            "_view_name": "StyleView",
            "description_width": ""
          }
        },
        "a38a8926d1a84f0c9629edfd3238af9f": {
          "model_module": "@jupyter-widgets/base",
          "model_module_version": "1.2.0",
          "model_name": "LayoutModel",
          "state": {
            "_model_module": "@jupyter-widgets/base",
            "_model_module_version": "1.2.0",
            "_model_name": "LayoutModel",
            "_view_count": null,
            "_view_module": "@jupyter-widgets/base",
            "_view_module_version": "1.2.0",
            "_view_name": "LayoutView",
            "align_content": null,
            "align_items": null,
            "align_self": null,
            "border": null,
            "bottom": null,
            "display": null,
            "flex": null,
            "flex_flow": null,
            "grid_area": null,
            "grid_auto_columns": null,
            "grid_auto_flow": null,
            "grid_auto_rows": null,
            "grid_column": null,
            "grid_gap": null,
            "grid_row": null,
            "grid_template_areas": null,
            "grid_template_columns": null,
            "grid_template_rows": null,
            "height": null,
            "justify_content": null,
            "justify_items": null,
            "left": null,
            "margin": null,
            "max_height": null,
            "max_width": null,
            "min_height": null,
            "min_width": null,
            "object_fit": null,
            "object_position": null,
            "order": null,
            "overflow": null,
            "overflow_x": null,
            "overflow_y": null,
            "padding": null,
            "right": null,
            "top": null,
            "visibility": null,
            "width": null
          }
        },
        "a7247897053a46159981c85a7eebf866": {
          "model_module": "@jupyter-widgets/controls",
          "model_module_version": "1.5.0",
          "model_name": "HBoxModel",
          "state": {
            "_dom_classes": [],
            "_model_module": "@jupyter-widgets/controls",
            "_model_module_version": "1.5.0",
            "_model_name": "HBoxModel",
            "_view_count": null,
            "_view_module": "@jupyter-widgets/controls",
            "_view_module_version": "1.5.0",
            "_view_name": "HBoxView",
            "box_style": "",
            "children": [
              "IPY_MODEL_0d78a64340364878ba1cb93469e21065",
              "IPY_MODEL_0b2ec18ab02a40d9bcb2aba073961a39",
              "IPY_MODEL_88c7e31dffd84deebd11c03b909c89d3"
            ],
            "layout": "IPY_MODEL_2c6ac0a468ca4f71990dc4077d03d8ff"
          }
        },
        "adb58ea5c74a4ded9b0e9792f3db7998": {
          "model_module": "@jupyter-widgets/base",
          "model_module_version": "1.2.0",
          "model_name": "LayoutModel",
          "state": {
            "_model_module": "@jupyter-widgets/base",
            "_model_module_version": "1.2.0",
            "_model_name": "LayoutModel",
            "_view_count": null,
            "_view_module": "@jupyter-widgets/base",
            "_view_module_version": "1.2.0",
            "_view_name": "LayoutView",
            "align_content": null,
            "align_items": null,
            "align_self": null,
            "border": null,
            "bottom": null,
            "display": null,
            "flex": null,
            "flex_flow": null,
            "grid_area": null,
            "grid_auto_columns": null,
            "grid_auto_flow": null,
            "grid_auto_rows": null,
            "grid_column": null,
            "grid_gap": null,
            "grid_row": null,
            "grid_template_areas": null,
            "grid_template_columns": null,
            "grid_template_rows": null,
            "height": null,
            "justify_content": null,
            "justify_items": null,
            "left": null,
            "margin": null,
            "max_height": null,
            "max_width": null,
            "min_height": null,
            "min_width": null,
            "object_fit": null,
            "object_position": null,
            "order": null,
            "overflow": null,
            "overflow_x": null,
            "overflow_y": null,
            "padding": null,
            "right": null,
            "top": null,
            "visibility": null,
            "width": null
          }
        },
        "adfea95e0bfa4691a5e91b8ef70bda88": {
          "model_module": "@jupyter-widgets/base",
          "model_module_version": "1.2.0",
          "model_name": "LayoutModel",
          "state": {
            "_model_module": "@jupyter-widgets/base",
            "_model_module_version": "1.2.0",
            "_model_name": "LayoutModel",
            "_view_count": null,
            "_view_module": "@jupyter-widgets/base",
            "_view_module_version": "1.2.0",
            "_view_name": "LayoutView",
            "align_content": null,
            "align_items": null,
            "align_self": null,
            "border": null,
            "bottom": null,
            "display": null,
            "flex": null,
            "flex_flow": null,
            "grid_area": null,
            "grid_auto_columns": null,
            "grid_auto_flow": null,
            "grid_auto_rows": null,
            "grid_column": null,
            "grid_gap": null,
            "grid_row": null,
            "grid_template_areas": null,
            "grid_template_columns": null,
            "grid_template_rows": null,
            "height": null,
            "justify_content": null,
            "justify_items": null,
            "left": null,
            "margin": null,
            "max_height": null,
            "max_width": null,
            "min_height": null,
            "min_width": null,
            "object_fit": null,
            "object_position": null,
            "order": null,
            "overflow": null,
            "overflow_x": null,
            "overflow_y": null,
            "padding": null,
            "right": null,
            "top": null,
            "visibility": null,
            "width": null
          }
        },
        "b0b4b7609b72439eb52798109739af0f": {
          "model_module": "@jupyter-widgets/controls",
          "model_module_version": "1.5.0",
          "model_name": "HTMLModel",
          "state": {
            "_dom_classes": [],
            "_model_module": "@jupyter-widgets/controls",
            "_model_module_version": "1.5.0",
            "_model_name": "HTMLModel",
            "_view_count": null,
            "_view_module": "@jupyter-widgets/controls",
            "_view_module_version": "1.5.0",
            "_view_name": "HTMLView",
            "description": "",
            "description_tooltip": null,
            "layout": "IPY_MODEL_a38a8926d1a84f0c9629edfd3238af9f",
            "placeholder": "​",
            "style": "IPY_MODEL_354583704fec4e6b95a8a24f89193e04",
            "value": " 172/172 [00:00&lt;00:00, 1405.02 examples/s]"
          }
        },
        "b14dbb8d53fb4049b2c953b50782146e": {
          "model_module": "@jupyter-widgets/controls",
          "model_module_version": "1.5.0",
          "model_name": "HBoxModel",
          "state": {
            "_dom_classes": [],
            "_model_module": "@jupyter-widgets/controls",
            "_model_module_version": "1.5.0",
            "_model_name": "HBoxModel",
            "_view_count": null,
            "_view_module": "@jupyter-widgets/controls",
            "_view_module_version": "1.5.0",
            "_view_name": "HBoxView",
            "box_style": "",
            "children": [
              "IPY_MODEL_5c6222991c7e4e57889781094788c410",
              "IPY_MODEL_e8aac03e994e4131bc38048fe4823b2b",
              "IPY_MODEL_195bb1d285744e8a997fc5bb6f85ca16"
            ],
            "layout": "IPY_MODEL_c151a23e6bf54a1082f1902945165eb8"
          }
        },
        "c151a23e6bf54a1082f1902945165eb8": {
          "model_module": "@jupyter-widgets/base",
          "model_module_version": "1.2.0",
          "model_name": "LayoutModel",
          "state": {
            "_model_module": "@jupyter-widgets/base",
            "_model_module_version": "1.2.0",
            "_model_name": "LayoutModel",
            "_view_count": null,
            "_view_module": "@jupyter-widgets/base",
            "_view_module_version": "1.2.0",
            "_view_name": "LayoutView",
            "align_content": null,
            "align_items": null,
            "align_self": null,
            "border": null,
            "bottom": null,
            "display": null,
            "flex": null,
            "flex_flow": null,
            "grid_area": null,
            "grid_auto_columns": null,
            "grid_auto_flow": null,
            "grid_auto_rows": null,
            "grid_column": null,
            "grid_gap": null,
            "grid_row": null,
            "grid_template_areas": null,
            "grid_template_columns": null,
            "grid_template_rows": null,
            "height": null,
            "justify_content": null,
            "justify_items": null,
            "left": null,
            "margin": null,
            "max_height": null,
            "max_width": null,
            "min_height": null,
            "min_width": null,
            "object_fit": null,
            "object_position": null,
            "order": null,
            "overflow": null,
            "overflow_x": null,
            "overflow_y": null,
            "padding": null,
            "right": null,
            "top": null,
            "visibility": null,
            "width": null
          }
        },
        "d0e1334cc1c64f45960bc73ae7535099": {
          "model_module": "@jupyter-widgets/controls",
          "model_module_version": "1.5.0",
          "model_name": "DescriptionStyleModel",
          "state": {
            "_model_module": "@jupyter-widgets/controls",
            "_model_module_version": "1.5.0",
            "_model_name": "DescriptionStyleModel",
            "_view_count": null,
            "_view_module": "@jupyter-widgets/base",
            "_view_module_version": "1.2.0",
            "_view_name": "StyleView",
            "description_width": ""
          }
        },
        "d2d018e55f2c4d58a6a2bae7892612d6": {
          "model_module": "@jupyter-widgets/controls",
          "model_module_version": "1.5.0",
          "model_name": "HBoxModel",
          "state": {
            "_dom_classes": [],
            "_model_module": "@jupyter-widgets/controls",
            "_model_module_version": "1.5.0",
            "_model_name": "HBoxModel",
            "_view_count": null,
            "_view_module": "@jupyter-widgets/controls",
            "_view_module_version": "1.5.0",
            "_view_name": "HBoxView",
            "box_style": "",
            "children": [
              "IPY_MODEL_52f4fbe3d01b41a9b43ecab08f6b5ef5",
              "IPY_MODEL_e497eea3f4074aa4be84f4f378eb9f07",
              "IPY_MODEL_b0b4b7609b72439eb52798109739af0f"
            ],
            "layout": "IPY_MODEL_10aaa70c52104d1a81ba21b3ce969950"
          }
        },
        "e2ce7b7d5b4a47cd9f147e90c7c6fc18": {
          "model_module": "@jupyter-widgets/base",
          "model_module_version": "1.2.0",
          "model_name": "LayoutModel",
          "state": {
            "_model_module": "@jupyter-widgets/base",
            "_model_module_version": "1.2.0",
            "_model_name": "LayoutModel",
            "_view_count": null,
            "_view_module": "@jupyter-widgets/base",
            "_view_module_version": "1.2.0",
            "_view_name": "LayoutView",
            "align_content": null,
            "align_items": null,
            "align_self": null,
            "border": null,
            "bottom": null,
            "display": null,
            "flex": null,
            "flex_flow": null,
            "grid_area": null,
            "grid_auto_columns": null,
            "grid_auto_flow": null,
            "grid_auto_rows": null,
            "grid_column": null,
            "grid_gap": null,
            "grid_row": null,
            "grid_template_areas": null,
            "grid_template_columns": null,
            "grid_template_rows": null,
            "height": null,
            "justify_content": null,
            "justify_items": null,
            "left": null,
            "margin": null,
            "max_height": null,
            "max_width": null,
            "min_height": null,
            "min_width": null,
            "object_fit": null,
            "object_position": null,
            "order": null,
            "overflow": null,
            "overflow_x": null,
            "overflow_y": null,
            "padding": null,
            "right": null,
            "top": null,
            "visibility": null,
            "width": null
          }
        },
        "e497eea3f4074aa4be84f4f378eb9f07": {
          "model_module": "@jupyter-widgets/controls",
          "model_module_version": "1.5.0",
          "model_name": "FloatProgressModel",
          "state": {
            "_dom_classes": [],
            "_model_module": "@jupyter-widgets/controls",
            "_model_module_version": "1.5.0",
            "_model_name": "FloatProgressModel",
            "_view_count": null,
            "_view_module": "@jupyter-widgets/controls",
            "_view_module_version": "1.5.0",
            "_view_name": "ProgressView",
            "bar_style": "success",
            "description": "",
            "description_tooltip": null,
            "layout": "IPY_MODEL_41d0e8596c71432f8f5d9ab97ec084af",
            "max": 172,
            "min": 0,
            "orientation": "horizontal",
            "style": "IPY_MODEL_2fab8a27fa594516ba8cf83beb66c6be",
            "value": 172
          }
        },
        "e608d0497f904a38ad7296c879d44720": {
          "model_module": "@jupyter-widgets/controls",
          "model_module_version": "1.5.0",
          "model_name": "DescriptionStyleModel",
          "state": {
            "_model_module": "@jupyter-widgets/controls",
            "_model_module_version": "1.5.0",
            "_model_name": "DescriptionStyleModel",
            "_view_count": null,
            "_view_module": "@jupyter-widgets/base",
            "_view_module_version": "1.2.0",
            "_view_name": "StyleView",
            "description_width": ""
          }
        },
        "e8aac03e994e4131bc38048fe4823b2b": {
          "model_module": "@jupyter-widgets/controls",
          "model_module_version": "1.5.0",
          "model_name": "FloatProgressModel",
          "state": {
            "_dom_classes": [],
            "_model_module": "@jupyter-widgets/controls",
            "_model_module_version": "1.5.0",
            "_model_name": "FloatProgressModel",
            "_view_count": null,
            "_view_module": "@jupyter-widgets/controls",
            "_view_module_version": "1.5.0",
            "_view_name": "ProgressView",
            "bar_style": "success",
            "description": "",
            "description_tooltip": null,
            "layout": "IPY_MODEL_adfea95e0bfa4691a5e91b8ef70bda88",
            "max": 58,
            "min": 0,
            "orientation": "horizontal",
            "style": "IPY_MODEL_6577ad0679d144d3ba7f45f04ec08110",
            "value": 58
          }
        },
        "effbc52a1b9749b4b40360df1aa740f6": {
          "model_module": "@jupyter-widgets/controls",
          "model_module_version": "1.5.0",
          "model_name": "DescriptionStyleModel",
          "state": {
            "_model_module": "@jupyter-widgets/controls",
            "_model_module_version": "1.5.0",
            "_model_name": "DescriptionStyleModel",
            "_view_count": null,
            "_view_module": "@jupyter-widgets/base",
            "_view_module_version": "1.2.0",
            "_view_name": "StyleView",
            "description_width": ""
          }
        }
      }
    }
  },
  "nbformat": 4,
  "nbformat_minor": 0
}
