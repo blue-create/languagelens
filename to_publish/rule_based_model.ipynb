{
  "cells": [
    {
      "cell_type": "markdown",
      "metadata": {
        "colab_type": "text",
        "id": "view-in-github"
      },
      "source": [
        "<a href=\"https://colab.research.google.com/github/blue-create/langlens/blob/main/to_publish/rule_based_model.ipynb\" target=\"_parent\"><img src=\"https://colab.research.google.com/assets/colab-badge.svg\" alt=\"Open In Colab\"/></a>"
      ]
    },
    {
      "cell_type": "markdown",
      "metadata": {
        "id": "VUZTVLBS1535"
      },
      "source": [
        "# Regelbasiertes Filtern\n",
        "In diesem Notebook werden Zeitungsartikel nach Schlagworten und RegEx-Ausdrücken nach verschiedenen Kategorien gefiltert.\n",
        "\n",
        "Schritte:\n",
        "- Filtern nach Sensationalismus\n",
        "- Filtern nach Graphisch\n",
        "- Filtern nach Statistiken\n",
        "- Filtern nach Hilfsangebote"
      ]
    },
    {
      "cell_type": "markdown",
      "metadata": {
        "id": "wW5IQkuI4X5t"
      },
      "source": [
        "### Imports, Konstanten, Paths"
      ]
    },
    {
      "cell_type": "code",
      "execution_count": null,
      "metadata": {
        "id": "gsxTqExG0xhB"
      },
      "outputs": [],
      "source": [
        "import tqdm as tqdm\n",
        "import os\n",
        "import pandas as pd\n",
        "import re\n",
        "from ast import literal_eval\n",
        "import re\n",
        "import pandas as pd\n",
        "from google.colab import drive"
      ]
    },
    {
      "cell_type": "code",
      "execution_count": null,
      "metadata": {
        "id": "NEkAUwpr1zU3"
      },
      "outputs": [],
      "source": [
        "#Definieren der Paths\n",
        "folder_path = \"2_Filtered\""
      ]
    },
    {
      "cell_type": "code",
      "execution_count": null,
      "metadata": {
        "id": "3-gEE8t61TyI"
      },
      "outputs": [],
      "source": [
        "# Verbinden mit GDrive\n",
        "drive.mount('/content/drive')\n",
        "%cd /content/drive/MyDrive/data/"
      ]
    },
    {
      "cell_type": "markdown",
      "metadata": {
        "id": "KAJUWCbkKtUH"
      },
      "source": [
        "### Daten\n"
      ]
    },
    {
      "cell_type": "code",
      "execution_count": null,
      "metadata": {
        "id": "zUfjoobOLBkv"
      },
      "outputs": [],
      "source": [
        "# Lesen und zusammenfügen aller Dateien\n",
        "dfs = []\n",
        "for filename in os.listdir(folder_path):\n",
        "    if filename.endswith(\".csv\"):\n",
        "        file_path = os.path.join(folder_path, filename)\n",
        "        df = pd.read_csv(file_path, index_col=0, converters={\"text\":literal_eval})\n",
        "        dfs.append(df)\n",
        "df_filtered = pd.concat(dfs, ignore_index=True)"
      ]
    },
    {
      "cell_type": "code",
      "execution_count": null,
      "metadata": {
        "id": "vN6S9qWhOlDL"
      },
      "outputs": [],
      "source": [
        "#Testen der Filter mit kleinerem Datensatz\n",
        "df_test=df.iloc[:5000,:]\n",
        "df_test=df_test.explode(\"text\")"
      ]
    },
    {
      "cell_type": "markdown",
      "metadata": {
        "id": "3QKBwNoCLjVo"
      },
      "source": [
        "## Filtern nach Sensationalismus"
      ]
    },
    {
      "cell_type": "markdown",
      "metadata": {
        "id": "svl2doIY-9fu"
      },
      "source": [
        "Die Liste von RegEx-Ausdrücken und Schlagwörtern wurde in einem iterativen Prozess erstellt um möglichste viele Artikel mit sensationalistischer Sprache zu erhalten."
      ]
    },
    {
      "cell_type": "code",
      "execution_count": null,
      "metadata": {
        "id": "WLvrJkRKLtBb"
      },
      "outputs": [],
      "source": [
        "# Definieren von Schlagworten, die auf sensationalistische Texte hindeuten können\n",
        "sens =[\"Ehetragödie\",\n",
        "       \"verschmähter? Liebhaber(in)?\",\n",
        "       \"rachsüchtige Hexe\",\n",
        "       \"Eifersuchtstat\",\n",
        "       \"Beziehungsdramas?\",\n",
        "       \"Rosenkrieg\",\n",
        "       \"Frauenschläger\",\n",
        "       \"tödliches?m? Drama\",\n",
        "       \"tränenerstickter? Stimme\",\n",
        "       \"blutüberströmt\",\n",
        "       \"tödlichen? Eskalation\",\n",
        "       \"ehedrama\",\n",
        "]"
      ]
    },
    {
      "cell_type": "code",
      "execution_count": null,
      "metadata": {
        "id": "8mQZpptgMIm8"
      },
      "outputs": [],
      "source": [
        "# Funktion zum prüfen von Texten auf sensationalistische Schlagworte\n",
        "def label_sensationalism(text):\n",
        "  \"\"\" Funktion zum prüfen von Texten auf sensationalistische Schlagworte\n",
        "  Parameters:\n",
        "    - text (str): Text, der nach sensationalistischen Schlagworten überprüft werden soll\n",
        "  Returns:\n",
        "    - str: \"Sensationalist\" wenn sensationalistische Schlagworte in dem Text auftauchen, \"\" wenn nicht\n",
        "  \"\"\"\n",
        "  for pattern in sens:\n",
        "    if len(re.findall(pattern=pattern,string=text,flags=re.IGNORECASE))>0:\n",
        "      return \"Sensationalist\"\n",
        "  return \"\""
      ]
    },
    {
      "cell_type": "code",
      "execution_count": null,
      "metadata": {
        "id": "C5DTn20-Ozul"
      },
      "outputs": [],
      "source": [
        "# Kategorisieren des Testsets\n",
        "df_test[\"label\"]=df_test.text.apply(label_sensationalism)"
      ]
    },
    {
      "cell_type": "markdown",
      "metadata": {
        "id": "JAvzbL-7_zIy"
      },
      "source": [
        "## Filtern nach Graphischer Sprache"
      ]
    },
    {
      "cell_type": "markdown",
      "metadata": {
        "id": "S1sf-yXYAG8y"
      },
      "source": [
        "Diese Liste von Schlagworten beinhalten Ausdrücke, die auf verstörende Inhalte hinweisen."
      ]
    },
    {
      "cell_type": "code",
      "execution_count": null,
      "metadata": {
        "id": "tICt9v6Y_67L"
      },
      "outputs": [],
      "source": [
        "# Definieren von Schlagworten, die auf graphische Inhalte hindeuten können\n",
        "GRAPHIC=[\"vergewaltigt\",\"vergewaltigung\",\"sexuell missbraucht\"]"
      ]
    },
    {
      "cell_type": "code",
      "execution_count": null,
      "metadata": {
        "id": "sG9PggMDAEr6"
      },
      "outputs": [],
      "source": [
        "# Funktion zum prüfen von Texten auf graphische Schlagworte\n",
        "def label_graphic(text):\n",
        "  \"\"\" Funktion zum prüfen von Texten auf Schlagworte, die auf graphische Inhalte hinweisen\n",
        "  Parameters:\n",
        "    - text (str): Text, der auf Schlagworte überprüft werden soll\n",
        "  Returns:\n",
        "    - str: \"Graphic\" wenn Schlagworte in dem Text auftauchen, \"\" wenn nicht\n",
        "  \"\"\"\n",
        "  for pattern in GRAPHIC:\n",
        "    if len(re.findall(pattern=pattern,string=text,flags=re.IGNORECASE))>0:\n",
        "      return \"Graphic\"\n",
        "  return \"\""
      ]
    },
    {
      "cell_type": "code",
      "execution_count": null,
      "metadata": {
        "id": "D2jwrE8sAEr7"
      },
      "outputs": [],
      "source": [
        "# Kategorisieren des Testsets\n",
        "df_test[\"label\"]=df_test.text.apply(label_graphic)"
      ]
    },
    {
      "cell_type": "markdown",
      "metadata": {
        "id": "Oeq6Ih4qU8fJ"
      },
      "source": [
        "## Filtern nach Statistiken"
      ]
    },
    {
      "cell_type": "markdown",
      "metadata": {
        "id": "GlmoT58i_NHv"
      },
      "source": [
        "Die Liste von RegEx-Ausdrücken und Schlagwörtern wurde in einem iterativen Prozess erstellt um möglichste viele Artikel mit Statistiken zu erhalten\n"
      ]
    },
    {
      "cell_type": "code",
      "execution_count": null,
      "metadata": {
        "id": "TMG1YpPWXh2W"
      },
      "outputs": [],
      "source": [
        "# Definieren von RegEx-Ausdrücken um Statistiken zu finden\n",
        "stats=[\"\\d*([\\.,]\\d*)?[ ](Prozent|%)\",\n",
        "       \"\\d+ (Fälle|Opfer|Frauen|Kinder|Personen|Betroffene|Morde|Plätze)\\W\",\n",
        "       \"Bundeskriminalamt\",\n",
        "       \"Kriminalstatistik\",\n",
        "       \"statistisches Amt\",\n",
        "       \"offizielle Zahlen\",\n",
        "       \"jeder? (zweiter?|dritter?|vierter?|fünfter?|sechster?|siebenter?) (mann|frau|kind)\",\n",
        "       \"(eine|zwei|drei|vier|fünf) von (zwei|drei|vier|fünf) Frauen\",\n",
        "       \"\\Wbka\\W\"]"
      ]
    },
    {
      "cell_type": "code",
      "execution_count": null,
      "metadata": {
        "id": "Ped1USpVWcnG"
      },
      "outputs": [],
      "source": [
        "#Funktion zum prüfen von Texten auf Statistiken\n",
        "def label_statistics(text):\n",
        "  \"\"\" Funktion zum prüfen von Texten auf Statistiken\n",
        "  Parameters:\n",
        "    - text (str): Text, der auf Statistiken überprüft werden soll\n",
        "  Returns:\n",
        "    - str: \"Statistic\" wenn Statisiken in dem Text auftauchen, \"\" wenn nicht\n",
        "  \"\"\"\n",
        "  for pattern in stats:\n",
        "    if len(re.findall(pattern=pattern,string=text,flags=re.IGNORECASE))>0:\n",
        "      return \"Statistic\"\n",
        "  return \"\""
      ]
    },
    {
      "cell_type": "code",
      "execution_count": null,
      "metadata": {
        "id": "O7lag9DNWgB2"
      },
      "outputs": [],
      "source": [
        "# Kategorisieren des Testsets\n",
        "df_test[\"label\"]=df_test.text.apply(label_statistics)"
      ]
    },
    {
      "cell_type": "markdown",
      "metadata": {
        "id": "jvXwBUVwWghm"
      },
      "source": [
        "## Filtern nach Hilfsangeboten"
      ]
    },
    {
      "cell_type": "markdown",
      "metadata": {
        "id": "H8XkZpc__scZ"
      },
      "source": [
        "Die Liste von RegEx-Ausdrücken und Schlagwörtern wurde in einem iterativen Prozess erstellt um möglichste viele Artikel mit Statistiken zu erhalten"
      ]
    },
    {
      "cell_type": "code",
      "execution_count": null,
      "metadata": {
        "id": "oso5gjMiiTC9"
      },
      "outputs": [],
      "source": [
        "# Definieren von RegEx-Ausdrücken um Hilfsangebote zu finden\n",
        "support=[\"[A-Za-z0-9._%+-]+@[A-Za-z0-9.-]+\\.[A-Za-z]{2,}\",\n",
        "         \"([A-Za-z0-9]+[.-_])*[A-Za-z0-9]+@[A-Za-z0-9-]+(\\.[A-Z|a-z]{2,})+\"\n",
        "         '\\(?\\d{4,5}\\)?[/\\s]*\\d{1,5}\\s*\\d{1,5}',\n",
        "         \"(www\\.)\\S+\\.\\S+\",\n",
        "         \"Beratungsstelle\",\n",
        "         \"Notrufdienst\",\n",
        "         \"Hotline\",\n",
        "         \"\\d{2,4}\\s?\\(?\\d{1,5}\\)?[-.\\s/]?(\\d{1,8}[-.\\s/]?){1,5}\\d{2,8}\"\n",
        "         ]"
      ]
    },
    {
      "cell_type": "code",
      "execution_count": null,
      "metadata": {
        "id": "NwO83kIpidC1"
      },
      "outputs": [],
      "source": [
        "#Funktion zum Prüfen von Texten auf Hilfsangebote\n",
        "def label_support(text):\n",
        "  \"\"\" Funktion zum Prüfen von Texten auf Hilfsangebote\n",
        "  Parameters:\n",
        "    - text (str): Text, der auf Hilfsangebote überprüft werden soll\n",
        "  Returns:\n",
        "    - str: \"Support Service\" wenn Hilfsangebote in dem Text auftauchen, \"\" wenn nicht\n",
        "  \"\"\"\n",
        "  for pattern in support:\n",
        "    if len(re.findall(pattern=pattern,string=text,flags=re.IGNORECASE))>0:\n",
        "      return \"Support Service\"\n",
        "  return \"\""
      ]
    },
    {
      "cell_type": "code",
      "execution_count": null,
      "metadata": {
        "id": "SZzWfbuBiiIW"
      },
      "outputs": [],
      "source": [
        "# Kategorisieren des Testsets\n",
        "df_test[\"label\"]=df_test.text.apply(label_support)"
      ]
    }
  ],
  "metadata": {
    "colab": {
      "authorship_tag": "ABX9TyPm9xdFSLfdBY2lRVPM6tf/",
      "include_colab_link": true,
      "provenance": [],
      "toc_visible": true
    },
    "kernelspec": {
      "display_name": "Python 3",
      "name": "python3"
    },
    "language_info": {
      "name": "python"
    }
  },
  "nbformat": 4,
  "nbformat_minor": 0
}
